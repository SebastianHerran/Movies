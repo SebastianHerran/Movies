{
 "cells": [
  {
   "cell_type": "code",
   "execution_count": 3,
   "id": "bbf3116a-8346-401d-8f93-8db13114e963",
   "metadata": {},
   "outputs": [],
   "source": [
    "import pandas as pd\n",
    "import numpy as np\n",
    "import matplotlib.pyplot as plt"
   ]
  },
  {
   "cell_type": "code",
   "execution_count": 4,
   "id": "cd26a1fd-0365-41dd-a8ba-a6b18f382ef4",
   "metadata": {},
   "outputs": [],
   "source": [
    "df = pd.read_csv('Movies_database.csv')"
   ]
  },
  {
   "cell_type": "markdown",
   "id": "24a22997-3da7-4d56-ae1f-748fa9f6d2ea",
   "metadata": {},
   "source": [
    "### New Columns out of 100"
   ]
  },
  {
   "cell_type": "code",
   "execution_count": 5,
   "id": "015e4923-61b1-416a-87c1-b4efb205d716",
   "metadata": {},
   "outputs": [],
   "source": [
    "df['imdb_rating'] = df['IMDb'].str.extract(r'(\\d\\.\\d)')"
   ]
  },
  {
   "cell_type": "code",
   "execution_count": 6,
   "id": "6d21b6da-30e2-44b7-92e1-8bb360ded4e7",
   "metadata": {},
   "outputs": [],
   "source": [
    "df['imdb_rating'] = df['imdb_rating'].astype('float64') * 10"
   ]
  },
  {
   "cell_type": "code",
   "execution_count": 7,
   "id": "c56d05bd-2546-4847-8ed9-732ef7e3af26",
   "metadata": {},
   "outputs": [],
   "source": [
    "df['rt_rating'] = df['Rotten Tomatoes'].str.extract(r'(\\d{2})').astype('float64')"
   ]
  },
  {
   "cell_type": "markdown",
   "id": "a53d2801-9209-4a8c-8025-ecce7e579179",
   "metadata": {},
   "source": [
    "### RottenTomatoes or IMDB?"
   ]
  },
  {
   "cell_type": "code",
   "execution_count": 8,
   "id": "423e99f8-a168-4af2-9abc-76727380c18a",
   "metadata": {
    "tags": []
   },
   "outputs": [],
   "source": [
    "df_nanless = df[(df.imdb_rating.notna()) & (df.rt_rating.notna())]\n",
    "#df_nanless = df_nanless.sample(frac=0.25).reset_index(drop=True)"
   ]
  },
  {
   "cell_type": "code",
   "execution_count": 9,
   "id": "eb5a2b97-8ec2-4806-a84f-345d9712decc",
   "metadata": {},
   "outputs": [],
   "source": [
    "window=50   ### Rolling Mean\n",
    "imdb = df_nanless.imdb_rating.rolling(window)\n",
    "rt = df_nanless.rt_rating.rolling(window)"
   ]
  },
  {
   "cell_type": "code",
   "execution_count": 10,
   "id": "b1c5c741-8738-414c-9f95-037018a0453d",
   "metadata": {},
   "outputs": [
    {
     "data": {
      "image/png": "[encoded data removed]",
      "text/plain": [
       "<Figure size 432x288 with 1 Axes>"
      ]
     },
     "metadata": {
      "needs_background": "light"
     },
     "output_type": "display_data"
    }
   ],
   "source": [
    "y=rt.mean()-imdb.mean()\n",
    "fig, ax = plt.subplots()\n",
    "plt.vlines(range(0,rt.mean().size),ymin=0,ymax=y,color=np.where(y>=0,'red','gold'))\n",
    "plt.plot(df_nanless.index, np.zeros(len(df_nanless.index)), 'b-')\n",
    "plt.xlabel('Películas')\n",
    "plt.ylabel('Diferencia')\n",
    "plt.title('RottenTomatoes - IMDB ratings')\n",
    "plt.grid(True)\n",
    "ax.set_xticklabels([])\n",
    "plt.show()"
   ]
  },
  {
   "cell_type": "code",
   "execution_count": 11,
   "id": "5cbea087-e9c0-4758-be40-049fabfaca3d",
   "metadata": {},
   "outputs": [
    {
     "data": {
      "image/png": "[encoded data removed]",
      "text/plain": [
       "<Figure size 432x288 with 1 Axes>"
      ]
     },
     "metadata": {
      "needs_background": "light"
     },
     "output_type": "display_data"
    }
   ],
   "source": [
    "fig, ax = plt.subplots()\n",
    "plt.bar([0,.5],[df_nanless.imdb_rating.mean(),df_nanless.rt_rating.mean()],width=.2,align='center',\n",
    "        tick_label=['RottenTomatoes', 'IMDB ratings'],color=['red','gold'])\n",
    "#plt.xlabel('')\n",
    "plt.ylabel('Promedio')\n",
    "plt.title('Comparación de Métricas')\n",
    "plt.ylim(50,70)\n",
    "#plt.grid(True)\n",
    "#ax.set_xticklabels(['IMDB','RottenTomatoes'])\n",
    "plt.show()"
   ]
  },
  {
   "cell_type": "code",
   "execution_count": 12,
   "id": "0f5500e1-786b-4364-bea5-fae31b9e5666",
   "metadata": {},
   "outputs": [
    {
     "data": {
      "image/png": "[encoded data removed]",
      "text/plain": [
       "<Figure size 432x288 with 1 Axes>"
      ]
     },
     "metadata": {
      "needs_background": "light"
     },
     "output_type": "display_data"
    }
   ],
   "source": [
    "plt.boxplot([df_nanless.imdb_rating,df_nanless.rt_rating],vert=False,labels=['IMDB ratings','RottenTomatoes'],showfliers=False,\n",
    "           showmeans=True)\n",
    "plt.xlabel('Site ratings')\n",
    "plt.title('Ratings comparison')\n",
    "plt.show()"
   ]
  },
  {
   "cell_type": "markdown",
   "id": "4f20a32b-451d-42e2-813c-ee1043a88aa9",
   "metadata": {
    "tags": []
   },
   "source": [
    "### Melt Streaming Services"
   ]
  },
  {
   "cell_type": "code",
   "execution_count": 13,
   "id": "166c8342-56ad-40bf-ba52-2dc7ed7b6d63",
   "metadata": {},
   "outputs": [
    {
     "data": {
      "text/plain": [
       "Index(['Unnamed: 0', 'Unnamed: 0.1', 'Unnamed: 0.1.1', 'Unnamed: 0.1.1.1',\n",
       "       'Unnamed: 0.1.1.1.1', 'Unnamed: 0.1.1.1.1.1', 'ID', 'Title', 'Year',\n",
       "       'Age', 'IMDb', 'Rotten Tomatoes', 'Netflix', 'Hulu', 'Prime Video',\n",
       "       'Disney+', 'Type', 'Directors', 'Genres', 'Country', 'Language',\n",
       "       'Runtime', 'imdb_rating', 'rt_rating'],\n",
       "      dtype='object')"
      ]
     },
     "execution_count": 13,
     "metadata": {},
     "output_type": "execute_result"
    }
   ],
   "source": [
    "df.columns"
   ]
  },
  {
   "cell_type": "code",
   "execution_count": 14,
   "id": "17258866-4d62-46b0-a6ef-caf983c90813",
   "metadata": {},
   "outputs": [],
   "source": [
    "melted = df.melt(['ID','Title','Year','Age','Type','Directors','Genres','Country','Language','Runtime','imdb_rating','rt_rating'], 'Netflix', var_name='Service')\n",
    "\n",
    "for service in ['Hulu','Disney+','Prime Video']:\n",
    "    new_melted = df.melt(['ID','Title','Year','Age','Type','Directors','Genres','Country','Language','Runtime','imdb_rating','rt_rating'], service, var_name='Service')\n",
    "    melted = pd.concat([melted,new_melted])\n",
    "melted = melted[melted.value ==1]\n",
    "melted.drop('value',inplace=True,axis=1)"
   ]
  },
  {
   "cell_type": "markdown",
   "id": "83f411ce-cb71-4b73-ac72-f743746742c2",
   "metadata": {},
   "source": [
    "### Exploded Genres"
   ]
  },
  {
   "cell_type": "code",
   "execution_count": 15,
   "id": "c193bd11-f3eb-4693-bff5-8018428356b0",
   "metadata": {},
   "outputs": [],
   "source": [
    "exploded_genres = melted.copy()\n",
    "exploded_genres.Genres = exploded_genres.Genres.str.split(',')\n",
    "exploded_genres = exploded_genres.explode('Genres')"
   ]
  },
  {
   "cell_type": "code",
   "execution_count": 16,
   "id": "a8835818-1323-4240-b423-36de3c12fd2d",
   "metadata": {},
   "outputs": [],
   "source": [
    "for column in exploded_genres.columns:\n",
    "    exploded_genres.rename({column:column+'_exploded'},axis=1,inplace=True)"
   ]
  },
  {
   "cell_type": "markdown",
   "id": "1cbd99b9-bc0f-40ef-8f5e-37b2c5f43af0",
   "metadata": {
    "tags": []
   },
   "source": [
    "### Exploded Countries"
   ]
  },
  {
   "cell_type": "code",
   "execution_count": 17,
   "id": "940d2b8a-e0b7-4d33-b1e8-9e18ac0de3a1",
   "metadata": {},
   "outputs": [],
   "source": [
    "exploded_countries = melted.copy()\n",
    "exploded_countries.Country = exploded_countries.Country.str.split(',')\n",
    "exploded_countries = exploded_countries.explode('Country')"
   ]
  },
  {
   "cell_type": "code",
   "execution_count": 18,
   "id": "df1860f4-5f27-4673-9fbf-18d8e8c1ab71",
   "metadata": {},
   "outputs": [],
   "source": [
    "for column in exploded_countries.columns:\n",
    "    exploded_countries.rename({column:column+'_exploded_countries'},axis=1,inplace=True)"
   ]
  },
  {
   "cell_type": "markdown",
   "id": "d8a613dd-34c6-47ff-8923-fe20e290c1f6",
   "metadata": {},
   "source": [
    "### Netflix Subscribers"
   ]
  },
  {
   "cell_type": "code",
   "execution_count": 54,
   "id": "6c628616-8f0f-41dd-97c4-f3994b27222e",
   "metadata": {},
   "outputs": [],
   "source": [
    "years,subs = [2013,2014,2015,2016,2017,2018,2019,2020,2021],[41.43,54.48,70.84,89.09,110.64,139.26,167.09,203.66,214.00]\n",
    "netflix_by_year = pd.DataFrame(zip(years,subs), columns=['Year','Netflix_subs'])"
   ]
  },
  {
   "cell_type": "markdown",
   "id": "44089d94-05fe-40c9-86e8-a90668f417d9",
   "metadata": {},
   "source": [
    "### Output"
   ]
  },
  {
   "cell_type": "code",
   "execution_count": 20,
   "id": "d0657fe3-a026-485a-86b8-05f67ff5b536",
   "metadata": {},
   "outputs": [],
   "source": [
    "df.to_csv('Movies_database.csv')"
   ]
  },
  {
   "cell_type": "code",
   "execution_count": 21,
   "id": "24497471-c966-4ba1-9697-c099eec4c622",
   "metadata": {
    "tags": []
   },
   "outputs": [],
   "source": [
    "df_nanless.to_csv('df_nanless.csv')\n",
    "melted.to_csv('melted.csv')"
   ]
  },
  {
   "cell_type": "code",
   "execution_count": 22,
   "id": "0fbf1ed7-0d56-4d6a-8dac-ce97793b0f7f",
   "metadata": {},
   "outputs": [],
   "source": [
    "rolling_diff_wdw_50 = pd.DataFrame(y).dropna().rename({0:'RollingAverageDifference'},axis=1).reset_index()\n",
    "rolling_diff_wdw_50.to_csv('rolling.csv')"
   ]
  },
  {
   "cell_type": "code",
   "execution_count": 23,
   "id": "326399ec-910a-4c7e-a1d1-c3c83b0a7f50",
   "metadata": {},
   "outputs": [],
   "source": [
    "exploded_genres.to_csv('exploded_genres.csv')"
   ]
  },
  {
   "cell_type": "code",
   "execution_count": 24,
   "id": "b20af20f-6602-4404-8054-5c965687eabd",
   "metadata": {},
   "outputs": [],
   "source": [
    "exploded_countries.to_csv('exploded_countries.csv')"
   ]
  },
  {
   "cell_type": "code",
   "execution_count": 55,
   "id": "b19a8b98-f3e0-4eb7-a37a-0b0ed5e81500",
   "metadata": {},
   "outputs": [],
   "source": [
    "netflix_by_year.to_csv('netflix_by_year.csv')"
   ]
  },
  {
   "cell_type": "code",
   "execution_count": 59,
   "id": "1f8bc405-67b1-4ee9-b6ad-26738ee6da75",
   "metadata": {},
   "outputs": [
    {
     "data": {
      "text/plain": [
       "63.0"
      ]
     },
     "execution_count": 59,
     "metadata": {},
     "output_type": "execute_result"
    }
   ],
   "source": [
    "df_nanless.imdb_rating.median()"
   ]
  },
  {
   "cell_type": "code",
   "execution_count": 58,
   "id": "711ed69c-f357-4b24-8c89-53797799b7b3",
   "metadata": {},
   "outputs": [
    {
     "data": {
      "text/plain": [
       "53.0"
      ]
     },
     "execution_count": 58,
     "metadata": {},
     "output_type": "execute_result"
    }
   ],
   "source": [
    "df_nanless.rt_rating.median()"
   ]
  },
  {
   "cell_type": "code",
   "execution_count": 62,
   "id": "8d745475-c56d-462a-bbfa-0c9d3473ddfd",
   "metadata": {},
   "outputs": [
    {
     "data": {
      "text/plain": [
       "Drama          4326\n",
       "Comedy         3525\n",
       "Thriller       1957\n",
       "Romance        1691\n",
       "Action         1637\n",
       "Family         1421\n",
       "Adventure      1246\n",
       "Documentary    1181\n",
       "Crime          1160\n",
       "Fantasy         884\n",
       "Horror          865\n",
       "Animation       756\n",
       "Mystery         751\n",
       "Sci-Fi          714\n",
       "Biography       494\n",
       "Music           400\n",
       "History         356\n",
       "Short           334\n",
       "Sport           320\n",
       "Musical         316\n",
       "War             258\n",
       "Western         233\n",
       "Film-Noir        25\n",
       "Talk-Show        20\n",
       "Reality-TV       18\n",
       "News             15\n",
       "Game-Show         4\n",
       "Name: Genres_exploded, dtype: int64"
      ]
     },
     "execution_count": 62,
     "metadata": {},
     "output_type": "execute_result"
    }
   ],
   "source": [
    "exploded_genres.Genres_exploded.value_counts()"
   ]
  },
  {
   "cell_type": "code",
   "execution_count": null,
   "id": "1a25793a-6128-4b83-9ed3-705ac4ad046f",
   "metadata": {},
   "outputs": [],
   "source": []
  }
 ],
 "metadata": {
  "kernelspec": {
   "display_name": "Python 3 (ipykernel)",
   "language": "python",
   "name": "python3"
  },
  "language_info": {
   "codemirror_mode": {
    "name": "ipython",
    "version": 3
   },
   "file_extension": ".py",
   "mimetype": "text/x-python",
   "name": "python",
   "nbconvert_exporter": "python",
   "pygments_lexer": "ipython3",
   "version": "3.9.7"
  }
 },
 "nbformat": 4,
 "nbformat_minor": 5
}
